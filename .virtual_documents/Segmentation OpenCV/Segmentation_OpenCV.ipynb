import matplotlib.pyplot as plt
import numpy as np
import cv2








img = cv2.imread("land.jpg")
img_brg = cv2.cvtColor(img, cv2.COLOR_BGR2RGB)
plt.imshow(img_brg)  








to2dim_img = img_brg.reshape((-1, 3))
to2dim_img = np.float32(to2dim_img)








criteria = (cv2.TERM_CRITERIA_EPS + cv2.TERM_CRITERIA_MAX_ITER, 10, 1.0) #  tuple of type, max_iteration and epsilon of the criteria
K = 2  # initial K differente cluster
attempts=10 # nbre of attempts





ret, labels, center = cv2.kmeans(to2dim_img, K, None, criteria, attempts, cv2.KMEANS_PP_CENTERS)

center = np.uint8(center)
res = center[labels.flatten()]
result_img = res.reshape((img_brg.shape))

plt.axis('off')
plt.imshow(result_img)





img = cv2.imread("ball.jpg")
img_brg = cv2.cvtColor(img, cv2.COLOR_BGR2RGB)
img_brg = cv2.resize(img_brg,(256,256))
plt.imshow(img_brg)  








gray = cv2.cvtColor(img,cv2.COLOR_RGB2GRAY)
_,thresh = cv2.threshold(gray, np.mean(gray), 255, cv2.THRESH_BINARY_INV)

plt.axis('off')
plt.imshow(thresh)








edges = cv2.dilate(cv2.Canny(thresh,0,255),None)

plt.axis('off')
plt.imshow(edges)





cnt = sorted(cv2.findContours(edges, cv2.RETR_LIST, cv2.CHAIN_APPROX_SIMPLE)[-2], key=cv2.contourArea)[-1]
mask = np.zeros((256,256), np.uint8)
masked = cv2.drawContours(mask, [cnt],-1, 255, -1)

plt.axis('off')
plt.imshow(masked)
